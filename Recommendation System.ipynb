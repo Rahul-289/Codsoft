{
 "cells": [
  {
   "cell_type": "code",
   "execution_count": 1,
   "id": "6f364413",
   "metadata": {},
   "outputs": [
    {
     "name": "stdout",
     "output_type": "stream",
     "text": [
      "Recommended movies for User 1\n",
      "Movie 3\n",
      "Movie 5\n"
     ]
    }
   ],
   "source": [
    "import numpy as np\n",
    "\n",
    "# Create a dummy user-item matrix (ratings matrix)\n",
    "user_item_matrix = np.array([\n",
    "    [5, 4, 0, 3, 0],\n",
    "    [0, 5, 4, 0, 2],\n",
    "    [4, 0, 0, 4, 0],\n",
    "    [0, 0, 5, 0, 3]\n",
    "])\n",
    "\n",
    "# Function to perform matrix factorization\n",
    "def matrix_factorization(R, K, steps=5000, alpha=0.0002, beta=0.02):\n",
    "    # Initialize user and item latent feature matrices\n",
    "    P = np.random.rand(R.shape[0], K)\n",
    "    Q = np.random.rand(R.shape[1], K)\n",
    "    Q = Q.T  # Transpose Q for easier matrix multiplication\n",
    "    \n",
    "    # Stochastic gradient descent to minimize the error\n",
    "    for step in range(steps):\n",
    "        for i in range(len(R)):\n",
    "            for j in range(len(R[i])):\n",
    "                if R[i][j] > 0:\n",
    "                    eij = R[i][j] - np.dot(P[i,:], Q[:,j])\n",
    "                    for k in range(K):\n",
    "                        P[i][k] = P[i][k] + alpha * (2 * eij * Q[k][j] - beta * P[i][k])\n",
    "                        Q[k][j] = Q[k][j] + alpha * (2 * eij * P[i][k] - beta * Q[k][j])\n",
    "        \n",
    "        # Compute error (RMSE)\n",
    "        e = 0\n",
    "        for i in range(len(R)):\n",
    "            for j in range(len(R[i])):\n",
    "                if R[i][j] > 0:\n",
    "                    e = e + pow(R[i][j] - np.dot(P[i,:], Q[:,j]), 2)\n",
    "                    for k in range(K):\n",
    "                        e = e + (beta/2) * (pow(P[i][k],2) + pow(Q[k][j],2))\n",
    "        if e < 0.001:\n",
    "            break\n",
    "    \n",
    "    return P, Q.T\n",
    "\n",
    "# Set the number of latent factors\n",
    "num_factors = 2\n",
    "\n",
    "# Perform matrix factorization\n",
    "user_latent, item_latent = matrix_factorization(user_item_matrix, num_factors)\n",
    "\n",
    "# Predict ratings for users and items\n",
    "predicted_ratings = np.dot(user_latent, item_latent.T)\n",
    "\n",
    "# Recommend movies for a user (e.g., User 1)\n",
    "user_id = 1\n",
    "user_ratings = predicted_ratings[user_id - 1]\n",
    "recommended_movies = np.argsort(user_ratings)[::-1]\n",
    "\n",
    "print(\"Recommended movies for User\", user_id)\n",
    "for i in recommended_movies:\n",
    "    if user_item_matrix[user_id - 1][i] == 0:\n",
    "        print(\"Movie\", i+1)\n"
   ]
  },
  {
   "cell_type": "code",
   "execution_count": null,
   "id": "9a3c02ff",
   "metadata": {},
   "outputs": [],
   "source": []
  }
 ],
 "metadata": {
  "kernelspec": {
   "display_name": "Python 3 (ipykernel)",
   "language": "python",
   "name": "python3"
  },
  "language_info": {
   "codemirror_mode": {
    "name": "ipython",
    "version": 3
   },
   "file_extension": ".py",
   "mimetype": "text/x-python",
   "name": "python",
   "nbconvert_exporter": "python",
   "pygments_lexer": "ipython3",
   "version": "3.11.4"
  }
 },
 "nbformat": 4,
 "nbformat_minor": 5
}
